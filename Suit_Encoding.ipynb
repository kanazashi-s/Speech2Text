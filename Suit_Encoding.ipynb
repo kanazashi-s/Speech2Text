{
 "cells": [
  {
   "cell_type": "code",
   "execution_count": 1,
   "metadata": {},
   "outputs": [],
   "source": [
    "from pydub import AudioSegment\n",
    "import os\n",
    "import sys\n",
    "dir_ffmpeg = r'C:\\Users\\USER02\\Downloads\\ffmpeg\\bin'\n",
    "sys.path.append(dir_ffmpeg)\n",
    "AudioSegment.converter = r'C:\\Users\\USER02\\Downloads\\ffmpeg\\bin\\ffmpeg.exe'\n",
    "AudioSegment.ffmpeg = os.path.join(dir_ffmpeg, 'ffmpeg.exe')\n",
    "AudioSegment.ffprobe = os.path.join(dir_ffmpeg, 'ffprobe.exe')\n",
    "\n",
    "\n",
    "# .mp3ファイルを.wavファイルに変換します\n",
    "def mp3towav(mp3_filepath, wav_filepath):\n",
    "    sound = AudioSegment.from_mp3(mp3_filepath)\n",
    "    sound.export(wav_filepath, format=\"wav\")\n",
    "\n",
    "    \n",
    "# ステレオwavファイルをモノラルに変換します\n",
    "def stereo2mono(input_filepath, output_filepath):\n",
    "    sound = AudioSegment.from_wav(input_filepath)\n",
    "    sound = sound.set_channels(1)\n",
    "    sound.export(output_filepath, format=\"wav\")"
   ]
  },
  {
   "cell_type": "code",
   "execution_count": 2,
   "metadata": {},
   "outputs": [],
   "source": [
    "mp3_filepath = os.path.join('resource', 'baka.mp3')\n",
    "wav_filepath = os.path.join('resource', 'baka.wav')\n",
    "mp3towav(mp3_filepath, wav_filepath)"
   ]
  },
  {
   "cell_type": "code",
   "execution_count": null,
   "metadata": {},
   "outputs": [],
   "source": []
  }
 ],
 "metadata": {
  "kernelspec": {
   "display_name": "Python 3",
   "language": "python",
   "name": "python3"
  },
  "language_info": {
   "codemirror_mode": {
    "name": "ipython",
    "version": 3
   },
   "file_extension": ".py",
   "mimetype": "text/x-python",
   "name": "python",
   "nbconvert_exporter": "python",
   "pygments_lexer": "ipython3",
   "version": "3.6.6"
  }
 },
 "nbformat": 4,
 "nbformat_minor": 2
}
