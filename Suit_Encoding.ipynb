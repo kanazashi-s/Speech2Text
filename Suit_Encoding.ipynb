{
 "cells": [
  {
   "cell_type": "raw",
   "metadata": {},
   "source": [
    "Copyright [zashio]\n",
    "\n",
    "Licensed under the Apache License, Version 2.0 (the \"License\");\n",
    "you may not use this file except in compliance with the License.\n",
    "You may obtain a copy of the License at\n",
    "\n",
    "    http://www.apache.org/licenses/LICENSE-2.0\n",
    "\n",
    "Unless required by applicable law or agreed to in writing, software\n",
    "distributed under the License is distributed on an \"AS IS\" BASIS,\n",
    "WITHOUT WARRANTIES OR CONDITIONS OF ANY KIND, either express or implied.\n",
    "See the License for the specific language governing permissions and\n",
    "limitations under the License."
   ]
  },
  {
   "cell_type": "code",
   "execution_count": null,
   "metadata": {},
   "outputs": [],
   "source": [
    "from pydub import AudioSegment\n",
    "import os\n",
    "\n",
    "\n",
    "# .mp3ファイルを.wavファイルに変換します\n",
    "def mp3towav(mp3_filepath, wav_filepath):\n",
    "    sound = AudioSegment.from_mp3(mp3_filepath)\n",
    "    sound.export(wav_filepath, format=\"wav\")\n",
    "\n",
    "    \n",
    "# ステレオwavファイルをモノラルに変換します\n",
    "def stereo2mono(input_filepath, output_filepath):\n",
    "    sound = AudioSegment.from_wav(input_filepath)\n",
    "    sound = sound.set_channels(1)\n",
    "    sound.export(output_filepath, format=\"wav\")"
   ]
  },
  {
   "cell_type": "code",
   "execution_count": null,
   "metadata": {},
   "outputs": [],
   "source": [
    "# mp3towavを実行\n",
    "mp3_filepath = os.path.join('resource', 'ryokou.mp3')\n",
    "wav_filepath = os.path.join('resource', 'ryokou.wav')\n",
    "mp3towav(mp3_filepath, wav_filepath)"
   ]
  },
  {
   "cell_type": "code",
   "execution_count": null,
   "metadata": {},
   "outputs": [],
   "source": [
    "#check_filepathで指定したwavファイルのチャンネルを出力\n",
    "import wave\n",
    "check_filepath = os.path.join('resource', 'ryokou.wav')\n",
    "with wave.openfp(check_filepath, 'rb') as f:\n",
    "    print(f.getnchannels())"
   ]
  },
  {
   "cell_type": "code",
   "execution_count": null,
   "metadata": {},
   "outputs": [],
   "source": [
    "# stereo2monoを実行\n",
    "# wavファイルのチャンネル数を1に変換\n",
    "stereo_filepath = os.path.join('resource', 'ryokou.wav')\n",
    "mono_filepath = os.path.join('resource', 'ryokou_mono.wav')\n",
    "stereo2mono(stereo_filepath, mono_filepath)"
   ]
  },
  {
   "cell_type": "code",
   "execution_count": null,
   "metadata": {},
   "outputs": [],
   "source": []
  }
 ],
 "metadata": {
  "kernelspec": {
   "display_name": "Python 3",
   "language": "python",
   "name": "python3"
  },
  "language_info": {
   "codemirror_mode": {
    "name": "ipython",
    "version": 3
   },
   "file_extension": ".py",
   "mimetype": "text/x-python",
   "name": "python",
   "nbconvert_exporter": "python",
   "pygments_lexer": "ipython3",
   "version": "3.6.6"
  }
 },
 "nbformat": 4,
 "nbformat_minor": 2
}
